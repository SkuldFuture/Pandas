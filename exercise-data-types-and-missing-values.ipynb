{
 "cells": [
  {
   "cell_type": "markdown",
   "metadata": {},
   "source": [
    "**This notebook is an exercise in the [Pandas](https://www.kaggle.com/learn/pandas) course.  You can reference the tutorial at [this link](https://www.kaggle.com/residentmario/data-types-and-missing-values).**\n",
    "\n",
    "---\n"
   ]
  },
  {
   "cell_type": "markdown",
   "metadata": {},
   "source": [
    "# Introduction\n",
    "\n",
    "Run the following cell to load your data and some utility functions."
   ]
  },
  {
   "cell_type": "code",
   "execution_count": 1,
   "metadata": {
    "execution": {
     "iopub.execute_input": "2022-07-22T11:16:43.015502Z",
     "iopub.status.busy": "2022-07-22T11:16:43.014879Z",
     "iopub.status.idle": "2022-07-22T11:16:44.076036Z",
     "shell.execute_reply": "2022-07-22T11:16:44.074884Z",
     "shell.execute_reply.started": "2022-07-22T11:16:43.015446Z"
    }
   },
   "outputs": [
    {
     "name": "stdout",
     "output_type": "stream",
     "text": [
      "Setup complete.\n"
     ]
    }
   ],
   "source": [
    "import pandas as pd\n",
    "\n",
    "reviews = pd.read_csv(\"../Downloads/winemag-data-130k-v2.csv\", index_col=0)\n",
    "print(\"Setup complete.\")"
   ]
  },
  {
   "cell_type": "markdown",
   "metadata": {},
   "source": [
    "# Exercises"
   ]
  },
  {
   "cell_type": "markdown",
   "metadata": {},
   "source": [
    "## 1. \n",
    "What is the data type of the `points` column in the dataset?"
   ]
  },
  {
   "cell_type": "code",
   "execution_count": 2,
   "metadata": {
    "execution": {
     "iopub.execute_input": "2022-07-22T11:16:45.271735Z",
     "iopub.status.busy": "2022-07-22T11:16:45.270958Z",
     "iopub.status.idle": "2022-07-22T11:16:45.283652Z",
     "shell.execute_reply": "2022-07-22T11:16:45.282485Z",
     "shell.execute_reply.started": "2022-07-22T11:16:45.271690Z"
    }
   },
   "outputs": [
    {
     "data": {
      "text/plain": [
       "dtype('int64')"
      ]
     },
     "execution_count": 2,
     "metadata": {},
     "output_type": "execute_result"
    }
   ],
   "source": [
    "# Your code here\n",
    "dtype = reviews.points.dtype\n",
    "dtype"
   ]
  },
  {
   "cell_type": "markdown",
   "metadata": {},
   "source": [
    "## 2. \n",
    "Create a Series from entries in the `points` column, but convert the entries to strings. Hint: strings are `str` in native Python."
   ]
  },
  {
   "cell_type": "code",
   "execution_count": 3,
   "metadata": {
    "execution": {
     "iopub.execute_input": "2022-07-22T11:16:48.331975Z",
     "iopub.status.busy": "2022-07-22T11:16:48.331319Z",
     "iopub.status.idle": "2022-07-22T11:16:48.422825Z",
     "shell.execute_reply": "2022-07-22T11:16:48.421998Z",
     "shell.execute_reply.started": "2022-07-22T11:16:48.331939Z"
    }
   },
   "outputs": [
    {
     "data": {
      "text/plain": [
       "0         87\n",
       "1         87\n",
       "2         87\n",
       "3         87\n",
       "4         87\n",
       "          ..\n",
       "129966    90\n",
       "129967    90\n",
       "129968    90\n",
       "129969    90\n",
       "129970    90\n",
       "Name: points, Length: 129971, dtype: object"
      ]
     },
     "execution_count": 3,
     "metadata": {},
     "output_type": "execute_result"
    }
   ],
   "source": [
    "# point_strings = reviews.points.astype('str')\n",
    "point_strings = reviews.points.astype(str)\n",
    "point_strings"
   ]
  },
  {
   "cell_type": "markdown",
   "metadata": {},
   "source": [
    "## 3.\n",
    "Sometimes the price column is null. How many reviews in the dataset are missing a price?"
   ]
  },
  {
   "cell_type": "code",
   "execution_count": 4,
   "metadata": {
    "execution": {
     "iopub.execute_input": "2022-07-22T11:16:50.978313Z",
     "iopub.status.busy": "2022-07-22T11:16:50.977508Z",
     "iopub.status.idle": "2022-07-22T11:16:50.988365Z",
     "shell.execute_reply": "2022-07-22T11:16:50.987443Z",
     "shell.execute_reply.started": "2022-07-22T11:16:50.978267Z"
    }
   },
   "outputs": [
    {
     "data": {
      "text/plain": [
       "8996"
      ]
     },
     "execution_count": 4,
     "metadata": {},
     "output_type": "execute_result"
    }
   ],
   "source": [
    "# missing_price_reviews = reviews[pd.isnull(reviews.price)]\n",
    "# missing_price_reviews = reviews[reviews.price.isnull()]\n",
    "# n_missing_prices = len(missing_price_reviews)\n",
    "# n_missing_prices = reviews['price'].isnull().sum()\n",
    "n_missing_prices = pd.isnull(reviews.price).sum()\n",
    "n_missing_prices"
   ]
  },
  {
   "cell_type": "markdown",
   "metadata": {},
   "source": [
    "## 4.\n",
    "What are the most common wine-producing regions? Create a Series counting the number of times each value occurs in the `region_1` field. This field is often missing data, so replace missing values with `Unknown`. Sort in descending order.  Your output should look something like this:\n",
    "\n",
    "```\n",
    "Unknown                    21247\n",
    "Napa Valley                 4480\n",
    "                           ...  \n",
    "Bardolino Superiore            1\n",
    "Primitivo del Tarantino        1\n",
    "Name: region_1, Length: 1230, dtype: int64\n",
    "```"
   ]
  },
  {
   "cell_type": "code",
   "execution_count": 5,
   "metadata": {
    "execution": {
     "iopub.execute_input": "2022-07-22T11:21:09.147550Z",
     "iopub.status.busy": "2022-07-22T11:21:09.146437Z",
     "iopub.status.idle": "2022-07-22T11:21:09.196631Z",
     "shell.execute_reply": "2022-07-22T11:21:09.195402Z",
     "shell.execute_reply.started": "2022-07-22T11:21:09.147492Z"
    }
   },
   "outputs": [
    {
     "data": {
      "text/plain": [
       "Unknown                      21247\n",
       "Napa Valley                   4480\n",
       "Columbia Valley (WA)          4124\n",
       "Russian River Valley          3091\n",
       "California                    2629\n",
       "                             ...  \n",
       "Colli del Limbara                1\n",
       "Dolcetto d'Alba Superiore        1\n",
       "Terrasses du Larzac              1\n",
       "Apremont                         1\n",
       "Barossa-Langhorne Creek          1\n",
       "Name: region_1, Length: 1230, dtype: int64"
      ]
     },
     "execution_count": 5,
     "metadata": {},
     "output_type": "execute_result"
    }
   ],
   "source": [
    "reviews_per_region = reviews.region_1.fillna(\"Unknown\").value_counts().sort_values(ascending=False)\n",
    "reviews_per_region"
   ]
  }
 ],
 "metadata": {
  "kernelspec": {
   "display_name": "Python 3",
   "language": "python",
   "name": "python3"
  },
  "language_info": {
   "codemirror_mode": {
    "name": "ipython",
    "version": 3
   },
   "file_extension": ".py",
   "mimetype": "text/x-python",
   "name": "python",
   "nbconvert_exporter": "python",
   "pygments_lexer": "ipython3",
   "version": "3.6.9"
  }
 },
 "nbformat": 4,
 "nbformat_minor": 4
}
