{
 "cells": [
  {
   "cell_type": "markdown",
   "metadata": {},
   "source": [
    "**This notebook is an exercise in the [Pandas](https://www.kaggle.com/learn/pandas) course.  You can reference the tutorial at [this link](https://www.kaggle.com/residentmario/indexing-selecting-assigning).**\n",
    "\n",
    "---\n"
   ]
  },
  {
   "cell_type": "markdown",
   "metadata": {},
   "source": [
    "# Introduction\n",
    "\n",
    "In this set of exercises we will work with the [Wine Reviews dataset](https://www.kaggle.com/zynicide/wine-reviews). "
   ]
  },
  {
   "cell_type": "markdown",
   "metadata": {},
   "source": [
    "Run the following cell to load your data and some utility functions (including code to check your answers)."
   ]
  },
  {
   "cell_type": "code",
   "execution_count": 3,
   "metadata": {
    "execution": {
     "iopub.execute_input": "2022-07-23T15:36:24.841377Z",
     "iopub.status.busy": "2022-07-23T15:36:24.840970Z",
     "iopub.status.idle": "2022-07-23T15:36:27.688155Z",
     "shell.execute_reply": "2022-07-23T15:36:27.686981Z",
     "shell.execute_reply.started": "2022-07-23T15:36:24.841343Z"
    },
    "scrolled": true
   },
   "source": [
    "import pandas as pd\n",
    "\n",
    "reviews = pd.read_csv(\"../Downloads/winemag-data-130k-v2.csv\", index_col=0)\n",
    "pd.set_option(\"display.max_rows\", 5)\n",
    "\n",
    "from learntools.core import binder; binder.bind(globals())\n",
    "from learntools.pandas.indexing_selecting_and_assigning import *\n",
    "print(\"Setup complete.\")"
   ]
  },
  {
   "cell_type": "markdown",
   "metadata": {},
   "source": [
    "Look at an overview of your data by running the following line."
   ]
  },
  {
   "cell_type": "code",
   "execution_count": 2,
   "metadata": {
    "execution": {
     "iopub.execute_input": "2022-07-22T18:42:33.880339Z",
     "iopub.status.busy": "2022-07-22T18:42:33.879706Z",
     "iopub.status.idle": "2022-07-22T18:42:33.906979Z",
     "shell.execute_reply": "2022-07-22T18:42:33.905693Z",
     "shell.execute_reply.started": "2022-07-22T18:42:33.880311Z"
    }
   },
   "outputs": [],
   "source": [
    "reviews.head()"
   ]
  },
  {
   "cell_type": "markdown",
   "metadata": {},
   "source": [
    "# Exercises"
   ]
  },
  {
   "cell_type": "markdown",
   "metadata": {},
   "source": [
    "## 1.\n",
    "\n",
    "Select the `description` column from `reviews` and assign the result to the variable `desc`."
   ]
  },
  {
   "cell_type": "code",
   "execution_count": 3,
   "metadata": {
    "execution": {
     "iopub.execute_input": "2022-07-22T18:42:34.837842Z",
     "iopub.status.busy": "2022-07-22T18:42:34.836989Z",
     "iopub.status.idle": "2022-07-22T18:42:34.847921Z",
     "shell.execute_reply": "2022-07-22T18:42:34.846505Z",
     "shell.execute_reply.started": "2022-07-22T18:42:34.837810Z"
    }
   },
   "outputs": [],
   "source": [
    "# Your code here\n",
    "# desc = reviews['description']\n",
    "desc = reviews.description\n",
    "\n",
    "# Check your answer\n",
    "q1.check()"
   ]
  },
  {
   "cell_type": "code",
   "execution_count": 3,
   "metadata": {
    "execution": {
     "iopub.execute_input": "2022-07-23T15:36:41.969976Z",
     "iopub.status.busy": "2022-07-23T15:36:41.968799Z",
     "iopub.status.idle": "2022-07-23T15:36:41.980323Z",
     "shell.execute_reply": "2022-07-23T15:36:41.979072Z",
     "shell.execute_reply.started": "2022-07-23T15:36:41.969929Z"
    }
   },
   "outputs": [],
   "source": [
    "reviews.iloc[0, 1]"
   ]
  },
  {
   "cell_type": "markdown",
   "metadata": {},
   "source": [
    "Follow-up question: what type of object is `desc`? If you're not sure, you can check by calling Python's `type` function: `type(desc)`."
   ]
  },
  {
   "cell_type": "code",
   "execution_count": 5,
   "metadata": {
    "execution": {
     "iopub.execute_input": "2022-07-22T18:42:35.598188Z",
     "iopub.status.busy": "2022-07-22T18:42:35.597006Z",
     "iopub.status.idle": "2022-07-22T18:42:35.609987Z",
     "shell.execute_reply": "2022-07-22T18:42:35.609210Z",
     "shell.execute_reply.started": "2022-07-22T18:42:35.598124Z"
    }
   },
   "outputs": [],
   "source": [
    "# q1.hint()\n",
    "# q1.solution()"
   ]
  },
  {
   "cell_type": "markdown",
   "metadata": {},
   "source": [
    "## 2.\n",
    "\n",
    "Select the first value from the description column of `reviews`, assigning it to variable `first_description`."
   ]
  },
  {
   "cell_type": "code",
   "execution_count": 6,
   "metadata": {
    "execution": {
     "iopub.execute_input": "2022-07-22T18:42:36.207926Z",
     "iopub.status.busy": "2022-07-22T18:42:36.207225Z",
     "iopub.status.idle": "2022-07-22T18:42:36.219917Z",
     "shell.execute_reply": "2022-07-22T18:42:36.218774Z",
     "shell.execute_reply.started": "2022-07-22T18:42:36.207894Z"
    }
   },
   "outputs": [],
   "source": [
    "# first_description = reviews['description'][0]\n",
    "# first_description = reviews.description[0]\n",
    "# first_description = reviews['description'].iloc[0]\n",
    "# first_description = reviews.description.iloc[0]\n",
    "# first_description = reviews['description'].loc[0]\n",
    "# first_description = reviews.description.loc[0]\n",
    "# first_description = reviews.loc[0, 'description']\n",
    "first_description = reviews.iloc[0, 1]\n",
    "\n",
    "# Check your answer\n",
    "q2.check()\n",
    "first_description"
   ]
  },
  {
   "cell_type": "code",
   "execution_count": 7,
   "metadata": {
    "execution": {
     "iopub.execute_input": "2022-07-22T18:42:36.398404Z",
     "iopub.status.busy": "2022-07-22T18:42:36.397994Z",
     "iopub.status.idle": "2022-07-22T18:42:36.402882Z",
     "shell.execute_reply": "2022-07-22T18:42:36.401709Z",
     "shell.execute_reply.started": "2022-07-22T18:42:36.398374Z"
    }
   },
   "outputs": [],
   "source": [
    "#q2.hint()\n",
    "#q2.solution()"
   ]
  },
  {
   "cell_type": "markdown",
   "metadata": {},
   "source": [
    "## 3. \n",
    "\n",
    "Select the first row of data (the first record) from `reviews`, assigning it to the variable `first_row`."
   ]
  },
  {
   "cell_type": "code",
   "execution_count": 8,
   "metadata": {
    "execution": {
     "iopub.execute_input": "2022-07-22T18:42:36.833636Z",
     "iopub.status.busy": "2022-07-22T18:42:36.833046Z",
     "iopub.status.idle": "2022-07-22T18:42:36.844831Z",
     "shell.execute_reply": "2022-07-22T18:42:36.843727Z",
     "shell.execute_reply.started": "2022-07-22T18:42:36.833604Z"
    }
   },
   "outputs": [],
   "source": [
    "first_row = reviews.iloc[0]\n",
    "# first_row = reviews.loc[0]\n",
    "# first_row = reviews[:][:1]\n",
    "\n",
    "\n",
    "# Check your answer\n",
    "q3.check()\n",
    "first_row"
   ]
  },
  {
   "cell_type": "code",
   "execution_count": 9,
   "metadata": {
    "execution": {
     "iopub.execute_input": "2022-07-22T18:42:37.155334Z",
     "iopub.status.busy": "2022-07-22T18:42:37.154935Z",
     "iopub.status.idle": "2022-07-22T18:42:37.167657Z",
     "shell.execute_reply": "2022-07-22T18:42:37.166490Z",
     "shell.execute_reply.started": "2022-07-22T18:42:37.155303Z"
    }
   },
   "outputs": [],
   "source": [
    "# q3.hint()\n",
    "# q3.solution()"
   ]
  },
  {
   "cell_type": "markdown",
   "metadata": {},
   "source": [
    "## 4.\n",
    "\n",
    "Select the first 10 values from the `description` column in `reviews`, assigning the result to variable `first_descriptions`.\n",
    "\n",
    "Hint: format your output as a pandas Series."
   ]
  },
  {
   "cell_type": "code",
   "execution_count": 10,
   "metadata": {
    "execution": {
     "iopub.execute_input": "2022-07-22T18:42:37.835209Z",
     "iopub.status.busy": "2022-07-22T18:42:37.834794Z",
     "iopub.status.idle": "2022-07-22T18:42:37.851327Z",
     "shell.execute_reply": "2022-07-22T18:42:37.850233Z",
     "shell.execute_reply.started": "2022-07-22T18:42:37.835151Z"
    }
   },
   "outputs": [],
   "source": [
    "# first_descriptions = reviews['description'].iloc[:10]\n",
    "# first_descriptions = reviews.description.iloc[:10]\n",
    "# first_descriptions = reviews.iloc[:10, 1]\n",
    "# first_descriptions = reviews.loc[:9, 'description']\n",
    "# first_descriptions = reviews.description.loc[:9]\n",
    "# first_descriptions = reviews['description'].loc[:9]\n",
    "# first_descriptions = reviews['description'].head(10)\n",
    "first_descriptions = reviews.description.head(10)\n",
    "\n",
    "\n",
    "# Check your answer\n",
    "q4.check()\n",
    "first_descriptions"
   ]
  },
  {
   "cell_type": "code",
   "execution_count": 11,
   "metadata": {
    "execution": {
     "iopub.execute_input": "2022-07-22T18:42:38.101274Z",
     "iopub.status.busy": "2022-07-22T18:42:38.099965Z",
     "iopub.status.idle": "2022-07-22T18:42:38.106841Z",
     "shell.execute_reply": "2022-07-22T18:42:38.104856Z",
     "shell.execute_reply.started": "2022-07-22T18:42:38.101215Z"
    }
   },
   "outputs": [],
   "source": [
    "#q4.hint()\n",
    "#q4.solution()"
   ]
  },
  {
   "cell_type": "markdown",
   "metadata": {},
   "source": [
    "## 5.\n",
    "\n",
    "Select the records with index labels `1`, `2`, `3`, `5`, and `8`, assigning the result to the variable `sample_reviews`.\n",
    "\n",
    "In other words, generate the following DataFrame:\n",
    "\n",
    "![](https://i.imgur.com/sHZvI1O.png)"
   ]
  },
  {
   "cell_type": "code",
   "execution_count": 12,
   "metadata": {
    "execution": {
     "iopub.execute_input": "2022-07-22T18:42:38.605762Z",
     "iopub.status.busy": "2022-07-22T18:42:38.605228Z",
     "iopub.status.idle": "2022-07-22T18:42:38.629759Z",
     "shell.execute_reply": "2022-07-22T18:42:38.628395Z",
     "shell.execute_reply.started": "2022-07-22T18:42:38.605725Z"
    }
   },
   "outputs": [],
   "source": [
    "# sample_reviews = reviews.iloc[(reviews.index == 1) | (reviews.index == 2) | (reviews.index == 3) | (reviews.index == 5) | (reviews.index == 8)]\n",
    "# indices = [1, 2, 3, 5, 8]\n",
    "# sample_reviews = reviews.loc[indices]\n",
    "sample_reviews = reviews.iloc[[1, 2, 3, 5, 8]]\n",
    "\n",
    "\n",
    "# Check your answer\n",
    "q5.check()\n",
    "sample_reviews"
   ]
  },
  {
   "cell_type": "code",
   "execution_count": 13,
   "metadata": {
    "execution": {
     "iopub.execute_input": "2022-07-22T18:42:38.856376Z",
     "iopub.status.busy": "2022-07-22T18:42:38.856012Z",
     "iopub.status.idle": "2022-07-22T18:42:38.866687Z",
     "shell.execute_reply": "2022-07-22T18:42:38.865415Z",
     "shell.execute_reply.started": "2022-07-22T18:42:38.856348Z"
    }
   },
   "outputs": [],
   "source": [
    "# q5.hint()\n",
    "# q5.solution()"
   ]
  },
  {
   "cell_type": "markdown",
   "metadata": {},
   "source": [
    "## 6.\n",
    "\n",
    "Create a variable `df` containing the `country`, `province`, `region_1`, and `region_2` columns of the records with the index labels `0`, `1`, `10`, and `100`. In other words, generate the following DataFrame:\n",
    "\n",
    "![](https://i.imgur.com/FUCGiKP.png)"
   ]
  },
  {
   "cell_type": "code",
   "execution_count": 14,
   "metadata": {
    "execution": {
     "iopub.execute_input": "2022-07-22T18:42:40.351682Z",
     "iopub.status.busy": "2022-07-22T18:42:40.351344Z",
     "iopub.status.idle": "2022-07-22T18:42:40.380188Z",
     "shell.execute_reply": "2022-07-22T18:42:40.378949Z",
     "shell.execute_reply.started": "2022-07-22T18:42:40.351653Z"
    }
   },
   "outputs": [],
   "source": [
    "df = reviews.loc[[0, 1, 10, 100], ['country', 'province', 'region_1', 'region_2']]\n",
    "\n",
    "\n",
    "# Check your answer\n",
    "q6.check()\n",
    "df"
   ]
  },
  {
   "cell_type": "code",
   "execution_count": 15,
   "metadata": {
    "execution": {
     "iopub.execute_input": "2022-07-22T18:42:41.044478Z",
     "iopub.status.busy": "2022-07-22T18:42:41.044073Z",
     "iopub.status.idle": "2022-07-22T18:42:41.049675Z",
     "shell.execute_reply": "2022-07-22T18:42:41.048533Z",
     "shell.execute_reply.started": "2022-07-22T18:42:41.044448Z"
    }
   },
   "outputs": [],
   "source": [
    "# q6.hint()\n",
    "# q6.solution()"
   ]
  },
  {
   "cell_type": "markdown",
   "metadata": {},
   "source": [
    "## 7.\n",
    "\n",
    "Create a variable `df` containing the `country` and `variety` columns of the first 100 records. \n",
    "\n",
    "Hint: you may use `loc` or `iloc`. When working on the answer this question and the several of the ones that follow, keep the following \"gotcha\" described in the tutorial:\n",
    "\n",
    "> `iloc` uses the Python stdlib indexing scheme, where the first element of the range is included and the last one excluded. \n",
    "`loc`, meanwhile, indexes inclusively. \n",
    "\n",
    "> This is particularly confusing when the DataFrame index is a simple numerical list, e.g. `0,...,1000`. In this case `df.iloc[0:1000]` will return 1000 entries, while `df.loc[0:1000]` return 1001 of them! To get 1000 elements using `loc`, you will need to go one lower and ask for `df.iloc[0:999]`. "
   ]
  },
  {
   "cell_type": "code",
   "execution_count": 16,
   "metadata": {
    "execution": {
     "iopub.execute_input": "2022-07-22T18:42:42.598298Z",
     "iopub.status.busy": "2022-07-22T18:42:42.597957Z",
     "iopub.status.idle": "2022-07-22T18:42:42.618414Z",
     "shell.execute_reply": "2022-07-22T18:42:42.616742Z",
     "shell.execute_reply.started": "2022-07-22T18:42:42.598273Z"
    }
   },
   "outputs": [],
   "source": [
    "# df = reviews.loc[:99, ['country', 'variety']]\n",
    "df = reviews.iloc[:100, [0, 11]]\n",
    "\n",
    "\n",
    "# Check your answer\n",
    "q7.check()\n",
    "df"
   ]
  },
  {
   "cell_type": "code",
   "execution_count": 17,
   "metadata": {
    "execution": {
     "iopub.execute_input": "2022-07-22T18:42:43.320331Z",
     "iopub.status.busy": "2022-07-22T18:42:43.319940Z",
     "iopub.status.idle": "2022-07-22T18:42:43.325055Z",
     "shell.execute_reply": "2022-07-22T18:42:43.323939Z",
     "shell.execute_reply.started": "2022-07-22T18:42:43.320301Z"
    }
   },
   "outputs": [],
   "source": [
    "# q7.hint()\n",
    "# q7.solution()"
   ]
  },
  {
   "cell_type": "markdown",
   "metadata": {},
   "source": [
    "## 8.\n",
    "\n",
    "Create a DataFrame `italian_wines` containing reviews of wines made in `Italy`. Hint: `reviews.country` equals what?"
   ]
  },
  {
   "cell_type": "code",
   "execution_count": 18,
   "metadata": {
    "execution": {
     "iopub.execute_input": "2022-07-22T18:42:44.983326Z",
     "iopub.status.busy": "2022-07-22T18:42:44.982873Z",
     "iopub.status.idle": "2022-07-22T18:42:45.016085Z",
     "shell.execute_reply": "2022-07-22T18:42:45.015474Z",
     "shell.execute_reply.started": "2022-07-22T18:42:44.983296Z"
    }
   },
   "outputs": [],
   "source": [
    "italian_wines = reviews.loc[reviews['country']=='Italy']\n",
    "\n",
    "# Check your answer\n",
    "q8.check()"
   ]
  },
  {
   "cell_type": "code",
   "execution_count": 19,
   "metadata": {
    "execution": {
     "iopub.execute_input": "2022-07-22T18:42:45.958669Z",
     "iopub.status.busy": "2022-07-22T18:42:45.958383Z",
     "iopub.status.idle": "2022-07-22T18:42:45.962892Z",
     "shell.execute_reply": "2022-07-22T18:42:45.961941Z",
     "shell.execute_reply.started": "2022-07-22T18:42:45.958645Z"
    }
   },
   "outputs": [],
   "source": [
    "# q8.hint()\n",
    "# q8.solution()"
   ]
  },
  {
   "cell_type": "markdown",
   "metadata": {},
   "source": [
    "## 9.\n",
    "\n",
    "Create a DataFrame `top_oceania_wines` containing all reviews with at least 95 points (out of 100) for wines from Australia or New Zealand."
   ]
  },
  {
   "cell_type": "code",
   "execution_count": 20,
   "metadata": {
    "execution": {
     "iopub.execute_input": "2022-07-22T18:42:47.176662Z",
     "iopub.status.busy": "2022-07-22T18:42:47.176347Z",
     "iopub.status.idle": "2022-07-22T18:42:47.209984Z",
     "shell.execute_reply": "2022-07-22T18:42:47.208847Z",
     "shell.execute_reply.started": "2022-07-22T18:42:47.176638Z"
    }
   },
   "outputs": [],
   "source": [
    "top_oceania_wines = reviews.loc[(reviews.points >= 95) & (reviews.country.isin(['Australia', 'New Zealand']))]\n",
    "\n",
    "# Check your answer\n",
    "q9.check()\n",
    "top_oceania_wines"
   ]
  },
  {
   "cell_type": "code",
   "execution_count": 21,
   "metadata": {
    "execution": {
     "iopub.execute_input": "2022-07-22T18:42:48.301476Z",
     "iopub.status.busy": "2022-07-22T18:42:48.299987Z",
     "iopub.status.idle": "2022-07-22T18:42:48.310030Z",
     "shell.execute_reply": "2022-07-22T18:42:48.309220Z",
     "shell.execute_reply.started": "2022-07-22T18:42:48.301410Z"
    }
   },
   "outputs": [],
   "source": [
    "# q9.hint()\n",
    "# q9.solution()"
   ]
  },
  {
   "cell_type": "markdown",
   "metadata": {},
   "source": [
    "# Keep going\n",
    "\n",
    "Move on to learn about **[summary functions and maps](https://www.kaggle.com/residentmario/summary-functions-and-maps)**."
   ]
  },
  {
   "cell_type": "markdown",
   "metadata": {},
   "source": [
    "---\n",
    "\n",
    "\n",
    "\n",
    "\n",
    "*Have questions or comments? Visit the [course discussion forum](https://www.kaggle.com/learn/pandas/discussion) to chat with other learners.*"
   ]
  }
 ],
 "metadata": {
  "kernelspec": {
   "display_name": "Python 3",
   "language": "python",
   "name": "python3"
  },
  "language_info": {
   "codemirror_mode": {
    "name": "ipython",
    "version": 3
   },
   "file_extension": ".py",
   "mimetype": "text/x-python",
   "name": "python",
   "nbconvert_exporter": "python",
   "pygments_lexer": "ipython3",
   "version": "3.6.9"
  }
 },
 "nbformat": 4,
 "nbformat_minor": 4
}
