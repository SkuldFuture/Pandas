{
 "cells": [
  {
   "cell_type": "markdown",
   "metadata": {},
   "source": [
    "**This notebook is an exercise in the [Pandas](https://www.kaggle.com/learn/pandas) course.  You can reference the tutorial at [this link](https://www.kaggle.com/residentmario/creating-reading-and-writing).**\n",
    "\n",
    "---\n"
   ]
  },
  {
   "cell_type": "markdown",
   "metadata": {},
   "source": [
    "# Introduction\n",
    "\n",
    "The first step in most data analytics projects is reading the data file. In this exercise, you'll create Series and DataFrame objects, both by hand and by reading data files.\n",
    "\n",
    "Run the code cell below to load libraries you will need (including code to check your answers)."
   ]
  },
  {
   "cell_type": "code",
   "execution_count": null,
   "metadata": {
    "execution": {
     "iopub.execute_input": "2022-07-23T22:16:04.928269Z",
     "iopub.status.busy": "2022-07-23T22:16:04.927506Z",
     "iopub.status.idle": "2022-07-23T22:16:06.630887Z",
     "shell.execute_reply": "2022-07-23T22:16:06.629767Z",
     "shell.execute_reply.started": "2022-07-23T22:16:04.928172Z"
    }
   },
   "outputs": [],
   "source": [
    "import pandas as pd\n",
    "pd.set_option('max_rows', 5)\n",
    "from learntools.core import binder; binder.bind(globals())\n",
    "from learntools.pandas.creating_reading_and_writing import *\n",
    "print(\"Setup complete.\")"
   ]
  },
  {
   "cell_type": "markdown",
   "metadata": {},
   "source": [
    "# Exercises"
   ]
  },
  {
   "cell_type": "markdown",
   "metadata": {},
   "source": [
    "## 1.\n",
    "\n",
    "In the cell below, create a DataFrame `fruits` that looks like this:\n",
    "\n",
    "![](https://i.imgur.com/Ax3pp2A.png)"
   ]
  },
  {
   "cell_type": "code",
   "execution_count": null,
   "metadata": {
    "execution": {
     "iopub.execute_input": "2022-07-13T18:00:33.556124Z",
     "iopub.status.busy": "2022-07-13T18:00:33.555547Z",
     "iopub.status.idle": "2022-07-13T18:00:33.569939Z",
     "shell.execute_reply": "2022-07-13T18:00:33.568872Z",
     "shell.execute_reply.started": "2022-07-13T18:00:33.556092Z"
    }
   },
   "outputs": [],
   "source": [
    "# Your code goes here. Create a dataframe matching the above diagram and assign it to the variable fruits.\n",
    "# fruits = pd.DataFrame({'Apples': [30], 'Bananas': [21]})\n",
    "fruits = pd.DataFrame([[30, 21]], columns=['Apples', 'Bananas'])\n",
    "\n",
    "\n",
    "# Check your answer\n",
    "q1.check()\n",
    "fruits"
   ]
  },
  {
   "cell_type": "code",
   "execution_count": null,
   "metadata": {
    "execution": {
     "iopub.execute_input": "2022-07-13T18:00:40.533663Z",
     "iopub.status.busy": "2022-07-13T18:00:40.532576Z",
     "iopub.status.idle": "2022-07-13T18:00:40.545611Z",
     "shell.execute_reply": "2022-07-13T18:00:40.544703Z",
     "shell.execute_reply.started": "2022-07-13T18:00:40.533589Z"
    }
   },
   "outputs": [],
   "source": [
    "# q1.hint()\n",
    "# q1.solution()"
   ]
  },
  {
   "cell_type": "markdown",
   "metadata": {},
   "source": [
    "## 2.\n",
    "\n",
    "Create a dataframe `fruit_sales` that matches the diagram below:\n",
    "\n",
    "![](https://i.imgur.com/CHPn7ZF.png)"
   ]
  },
  {
   "cell_type": "code",
   "execution_count": null,
   "metadata": {
    "execution": {
     "iopub.execute_input": "2022-07-13T18:00:44.473199Z",
     "iopub.status.busy": "2022-07-13T18:00:44.472254Z",
     "iopub.status.idle": "2022-07-13T18:00:44.490526Z",
     "shell.execute_reply": "2022-07-13T18:00:44.489761Z",
     "shell.execute_reply.started": "2022-07-13T18:00:44.473163Z"
    }
   },
   "outputs": [],
   "source": [
    "# Your code goes here. Create a dataframe matching the above diagram and assign it to the variable fruit_sales.\n",
    "# fruit_sales = pd.DataFrame([[35, 21], [41, 34]], columns=['Apples', 'Bananas'], index=['2017 Sales', '2018 Sales'])\n",
    "fruit_sales = pd.DataFrame({'Apples': [35, 41], 'Bananas': [21, 34]}, index=['2017 Sales', '2018 Sales'])\n",
    "\n",
    "# Check your answer\n",
    "q2.check()\n",
    "fruit_sales"
   ]
  },
  {
   "cell_type": "code",
   "execution_count": null,
   "metadata": {
    "execution": {
     "iopub.execute_input": "2022-07-13T18:00:46.772714Z",
     "iopub.status.busy": "2022-07-13T18:00:46.772155Z",
     "iopub.status.idle": "2022-07-13T18:00:46.787773Z",
     "shell.execute_reply": "2022-07-13T18:00:46.786095Z",
     "shell.execute_reply.started": "2022-07-13T18:00:46.772662Z"
    }
   },
   "outputs": [],
   "source": [
    "# q2.hint()\n",
    "# q2.solution()"
   ]
  },
  {
   "cell_type": "markdown",
   "metadata": {},
   "source": [
    "## 3.\n",
    "\n",
    "Create a variable `ingredients` with a Series that looks like:\n",
    "\n",
    "```\n",
    "Flour     4 cups\n",
    "Milk       1 cup\n",
    "Eggs     2 large\n",
    "Spam       1 can\n",
    "Name: Dinner, dtype: object\n",
    "```"
   ]
  },
  {
   "cell_type": "code",
   "execution_count": null,
   "metadata": {
    "execution": {
     "iopub.execute_input": "2022-07-13T18:00:52.741897Z",
     "iopub.status.busy": "2022-07-13T18:00:52.740855Z",
     "iopub.status.idle": "2022-07-13T18:00:52.755328Z",
     "shell.execute_reply": "2022-07-13T18:00:52.754379Z",
     "shell.execute_reply.started": "2022-07-13T18:00:52.741823Z"
    }
   },
   "outputs": [],
   "source": [
    "ingredients = pd.Series(['4 cups', '1 cup', '2 large', '1 can'], index=['Flour', 'Milk', 'Eggs', 'Spam'], name='Dinner')\n",
    "\n",
    "# Check your answer\n",
    "q3.check()\n",
    "ingredients"
   ]
  },
  {
   "cell_type": "code",
   "execution_count": null,
   "metadata": {
    "execution": {
     "iopub.execute_input": "2022-07-13T18:00:54.653050Z",
     "iopub.status.busy": "2022-07-13T18:00:54.652357Z",
     "iopub.status.idle": "2022-07-13T18:00:54.664172Z",
     "shell.execute_reply": "2022-07-13T18:00:54.663391Z",
     "shell.execute_reply.started": "2022-07-13T18:00:54.652999Z"
    }
   },
   "outputs": [],
   "source": [
    "# q3.hint()\n",
    "# q3.solution()"
   ]
  },
  {
   "cell_type": "markdown",
   "metadata": {},
   "source": [
    "## 4.\n",
    "\n",
    "Read the following csv dataset of wine reviews into a DataFrame called `reviews`:\n",
    "\n",
    "![](https://i.imgur.com/74RCZtU.png)\n",
    "\n",
    "The filepath to the csv file is `../input/wine-reviews/winemag-data_first150k.csv`. The first few lines look like:\n",
    "\n",
    "```\n",
    ",country,description,designation,points,price,province,region_1,region_2,variety,winery\n",
    "0,US,\"This tremendous 100% varietal wine[...]\",Martha's Vineyard,96,235.0,California,Napa Valley,Napa,Cabernet Sauvignon,Heitz\n",
    "1,Spain,\"Ripe aromas of fig, blackberry and[...]\",Carodorum Selección Especial Reserva,96,110.0,Northern Spain,Toro,,Tinta de Toro,Bodega Carmen Rodríguez\n",
    "```"
   ]
  },
  {
   "cell_type": "code",
   "execution_count": null,
   "metadata": {
    "execution": {
     "iopub.execute_input": "2022-07-13T19:48:57.021935Z",
     "iopub.status.busy": "2022-07-13T19:48:57.021014Z",
     "iopub.status.idle": "2022-07-13T19:48:57.988683Z",
     "shell.execute_reply": "2022-07-13T19:48:57.987662Z",
     "shell.execute_reply.started": "2022-07-13T19:48:57.021884Z"
    }
   },
   "outputs": [],
   "source": [
    "reviews = pd.read_csv('../input/wine-reviews/winemag-data_first150k.csv', index_col=0)\n",
    "\n",
    "# Check your answer\n",
    "q4.check()\n",
    "reviews"
   ]
  },
  {
   "cell_type": "code",
   "execution_count": null,
   "metadata": {
    "execution": {
     "iopub.execute_input": "2022-07-13T18:58:53.971703Z",
     "iopub.status.busy": "2022-07-13T18:58:53.971228Z",
     "iopub.status.idle": "2022-07-13T18:58:53.986377Z",
     "shell.execute_reply": "2022-07-13T18:58:53.984951Z",
     "shell.execute_reply.started": "2022-07-13T18:58:53.971664Z"
    }
   },
   "outputs": [],
   "source": [
    "# q4.hint()\n",
    "# q4.solution()"
   ]
  },
  {
   "cell_type": "markdown",
   "metadata": {},
   "source": [
    "## 5.\n",
    "\n",
    "Run the cell below to create and display a DataFrame called `animals`:"
   ]
  },
  {
   "cell_type": "code",
   "execution_count": null,
   "metadata": {
    "execution": {
     "iopub.execute_input": "2022-07-13T19:55:18.710206Z",
     "iopub.status.busy": "2022-07-13T19:55:18.709738Z",
     "iopub.status.idle": "2022-07-13T19:55:18.722519Z",
     "shell.execute_reply": "2022-07-13T19:55:18.721717Z",
     "shell.execute_reply.started": "2022-07-13T19:55:18.710171Z"
    }
   },
   "outputs": [],
   "source": [
    "animals = pd.DataFrame({'Cows': [12, 20], 'Goats': [22, 19]}, index=['Year 1', 'Year 2'])\n",
    "animals"
   ]
  },
  {
   "cell_type": "markdown",
   "metadata": {},
   "source": [
    "In the cell below, write code to save this DataFrame to disk as a csv file with the name `cows_and_goats.csv`."
   ]
  },
  {
   "cell_type": "code",
   "execution_count": null,
   "metadata": {
    "execution": {
     "iopub.execute_input": "2022-07-13T20:46:24.116886Z",
     "iopub.status.busy": "2022-07-13T20:46:24.116497Z",
     "iopub.status.idle": "2022-07-13T20:46:24.133075Z",
     "shell.execute_reply": "2022-07-13T20:46:24.131909Z",
     "shell.execute_reply.started": "2022-07-13T20:46:24.116854Z"
    }
   },
   "outputs": [],
   "source": [
    "animals.to_csv(path_or_buf='cows_and_goats.csv')\n",
    "\n",
    "# Check your answer\n",
    "q5.check()"
   ]
  },
  {
   "cell_type": "code",
   "execution_count": null,
   "metadata": {
    "execution": {
     "iopub.execute_input": "2022-07-13T20:04:28.572889Z",
     "iopub.status.busy": "2022-07-13T20:04:28.572399Z",
     "iopub.status.idle": "2022-07-13T20:04:28.582754Z",
     "shell.execute_reply": "2022-07-13T20:04:28.581584Z",
     "shell.execute_reply.started": "2022-07-13T20:04:28.572851Z"
    }
   },
   "outputs": [],
   "source": [
    "# q5.hint()\n",
    "# q5.solution()"
   ]
  },
  {
   "cell_type": "markdown",
   "metadata": {},
   "source": [
    "# Keep going\n",
    "\n",
    "Move on to learn about **[indexing, selecting and assigning](https://www.kaggle.com/residentmario/indexing-selecting-assigning)**."
   ]
  },
  {
   "cell_type": "markdown",
   "metadata": {},
   "source": [
    "---\n",
    "\n",
    "\n",
    "\n",
    "\n",
    "*Have questions or comments? Visit the [course discussion forum](https://www.kaggle.com/learn/pandas/discussion) to chat with other learners.*"
   ]
  }
 ],
 "metadata": {
  "kernelspec": {
   "display_name": "Python 3",
   "language": "python",
   "name": "python3"
  },
  "language_info": {
   "codemirror_mode": {
    "name": "ipython",
    "version": 3
   },
   "file_extension": ".py",
   "mimetype": "text/x-python",
   "name": "python",
   "nbconvert_exporter": "python",
   "pygments_lexer": "ipython3",
   "version": "3.6.9"
  }
 },
 "nbformat": 4,
 "nbformat_minor": 4
}
